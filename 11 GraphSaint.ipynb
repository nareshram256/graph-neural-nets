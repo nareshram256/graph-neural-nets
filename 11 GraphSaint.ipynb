{
 "cells": [
  {
   "cell_type": "code",
   "execution_count": 1,
   "metadata": {},
   "outputs": [],
   "source": [
    "import numpy as np\n",
    "\n",
    "import torch\n",
    "from torch import nn\n",
    "import torch.nn.functional as F\n",
    "\n",
    "from torch_geometric.datasets import WikiCS\n",
    "from torch_geometric.data import GraphSAINTRandomWalkSampler"
   ]
  },
  {
   "cell_type": "code",
   "execution_count": 2,
   "metadata": {},
   "outputs": [
    {
     "name": "stdout",
     "output_type": "stream",
     "text": [
      "7\n"
     ]
    }
   ],
   "source": [
    "dataset = WikiCS(root='./data')[0]\n",
    "\n",
    "print(len(dataset))"
   ]
  },
  {
   "cell_type": "code",
   "execution_count": 3,
   "metadata": {},
   "outputs": [],
   "source": [
    "NUM_CLASSES = len(dataset.y.unique())"
   ]
  },
  {
   "cell_type": "code",
   "execution_count": 4,
   "metadata": {},
   "outputs": [],
   "source": [
    "# Clusters/partitions a graph data object into multiple subgraphs\n",
    "\n",
    "data_loader = GraphSAINTRandomWalkSampler(data=dataset, batch_size=1024, walk_length=2, num_steps=5, num_workers=5)\n",
    "\n",
    "# num_steps: number of iteration per epoch"
   ]
  },
  {
   "cell_type": "code",
   "execution_count": 14,
   "metadata": {},
   "outputs": [],
   "source": [
    "bat = next(iter(data_loader))"
   ]
  },
  {
   "cell_type": "code",
   "execution_count": 15,
   "metadata": {},
   "outputs": [
    {
     "data": {
      "text/plain": [
       "Data(edge_index=[2, 39970], stopping_mask=[2192, 20], test_mask=[2192], train_mask=[2192, 20], val_mask=[2192, 20], x=[2192, 300], y=[2192])"
      ]
     },
     "execution_count": 15,
     "metadata": {},
     "output_type": "execute_result"
    }
   ],
   "source": [
    "bat"
   ]
  },
  {
   "cell_type": "code",
   "execution_count": 16,
   "metadata": {},
   "outputs": [
    {
     "data": {
      "text/plain": [
       "tensor([[False, False, False,  ..., False, False, False],\n",
       "        [False,  True, False,  ..., False, False, False],\n",
       "        [False, False, False,  ..., False, False, False],\n",
       "        ...,\n",
       "        [False, False, False,  ..., False, False, False],\n",
       "        [False, False, False,  ..., False, False, False],\n",
       "        [False, False, False,  ..., False, False, False]])"
      ]
     },
     "execution_count": 16,
     "metadata": {},
     "output_type": "execute_result"
    }
   ],
   "source": [
    "bat.train_mask"
   ]
  },
  {
   "cell_type": "code",
   "execution_count": 6,
   "metadata": {},
   "outputs": [],
   "source": [
    "from torch_geometric.nn import GCNConv"
   ]
  },
  {
   "cell_type": "code",
   "execution_count": 13,
   "metadata": {},
   "outputs": [],
   "source": [
    "class WikiNode(nn.Module):\n",
    "    \n",
    "    def __init__(self):\n",
    "        \n",
    "        super().__init__()\n",
    "        \n",
    "        self.convs = nn.ModuleList()\n",
    "        \n",
    "        self.convs.append(GCNConv(dataset.num_features, 128))\n",
    "        \n",
    "        self.convs.append(GCNConv(128, 128))\n",
    "        \n",
    "        self.out_conv = GCNConv(128, NUM_CLASSES)\n",
    "        \n",
    "    def forward(self, data):\n",
    "        \n",
    "        x, edge_index = data.x, data.edge_index\n",
    "        \n",
    "        for conv in self.convs:\n",
    "                        \n",
    "            x = conv(x, edge_index)\n",
    "            \n",
    "            x = F.relu(x)\n",
    "            \n",
    "        return self.out_conv(x, edge_index)"
   ]
  },
  {
   "cell_type": "code",
   "execution_count": 14,
   "metadata": {},
   "outputs": [],
   "source": [
    "DEVICE = 'cuda' if torch.cuda.is_available() else 'cpu'"
   ]
  },
  {
   "cell_type": "code",
   "execution_count": 15,
   "metadata": {},
   "outputs": [],
   "source": [
    "node_clf = WikiNode().to(DEVICE)\n",
    "\n",
    "opt = torch.optim.Adam(node_clf.parameters(), weight_decay=0.001)"
   ]
  },
  {
   "cell_type": "code",
   "execution_count": 16,
   "metadata": {},
   "outputs": [],
   "source": [
    "@torch.no_grad()\n",
    "def masked_acc(logits, y, mask):\n",
    "    \n",
    "    a_max = torch.argmax(logits, dim=-1)\n",
    "    \n",
    "    eq = (a_max == y).float() * mask.float()\n",
    "            \n",
    "    return eq.sum() / mask.float().sum()"
   ]
  },
  {
   "cell_type": "code",
   "execution_count": 17,
   "metadata": {},
   "outputs": [],
   "source": [
    "def masked_cross_entropy(logits, y, mask):\n",
    "    \n",
    "    masked_y = y.masked_fill(mask == False, value=-1)\n",
    "    \n",
    "    loss = F.cross_entropy(logits, masked_y, ignore_index=-1)\n",
    "    \n",
    "    return loss"
   ]
  },
  {
   "cell_type": "code",
   "execution_count": 19,
   "metadata": {},
   "outputs": [],
   "source": [
    "def train_one_epoch():\n",
    "        \n",
    "    losses = []\n",
    "\n",
    "    for data in data_loader:\n",
    "        \n",
    "        data = data.to(DEVICE)\n",
    "        \n",
    "        logits = node_clf(data)\n",
    "        \n",
    "        mask = data.train_mask[:, 0]\n",
    "        \n",
    "        loss = masked_cross_entropy(logits, data.y, mask)\n",
    "                \n",
    "        # backprop + update\n",
    "        loss.backward()\n",
    "        opt.step()\n",
    "        opt.zero_grad()\n",
    "\n",
    "        losses.append(loss.item())\n",
    "        \n",
    "    return np.array(losses).mean()"
   ]
  },
  {
   "cell_type": "code",
   "execution_count": 20,
   "metadata": {},
   "outputs": [],
   "source": [
    "@torch.no_grad()\n",
    "def evaluate():\n",
    "        \n",
    "    accuracies = []\n",
    "\n",
    "    for data in data_loader:\n",
    "        \n",
    "        data = data.to(DEVICE)\n",
    "        \n",
    "        logits = node_clf(data)\n",
    "\n",
    "        mask = data.test_mask\n",
    "                \n",
    "        # compute accuracy\n",
    "        acc = masked_acc(logits, data.y, mask)\n",
    "\n",
    "        accuracies.append(acc.item())\n",
    "\n",
    "    return np.array(accuracies).mean()"
   ]
  },
  {
   "cell_type": "code",
   "execution_count": 21,
   "metadata": {},
   "outputs": [
    {
     "name": "stdout",
     "output_type": "stream",
     "text": [
      "loss =  2.252\t acc =  0.218\n",
      "loss =  2.082\t acc =  0.202\n",
      "loss =  2.001\t acc =  0.273\n",
      "loss =  1.943\t acc =  0.469\n",
      "loss =  1.844\t acc =  0.462\n",
      "loss =  1.769\t acc =  0.563\n",
      "loss =  1.638\t acc =  0.582\n",
      "loss =  1.557\t acc =  0.575\n",
      "loss =  1.458\t acc =  0.588\n",
      "loss =  1.375\t acc =  0.618\n",
      "loss =  1.344\t acc =  0.630\n",
      "loss =  1.201\t acc =  0.623\n",
      "loss =  1.165\t acc =  0.653\n",
      "loss =  1.119\t acc =  0.648\n",
      "loss =  1.051\t acc =  0.662\n",
      "loss =  0.971\t acc =  0.667\n",
      "loss =  0.989\t acc =  0.673\n",
      "loss =  1.011\t acc =  0.669\n",
      "loss =  0.967\t acc =  0.699\n",
      "loss =  0.882\t acc =  0.695\n",
      "loss =  0.907\t acc =  0.679\n",
      "loss =  0.869\t acc =  0.693\n",
      "loss =  0.932\t acc =  0.709\n",
      "loss =  0.871\t acc =  0.704\n",
      "loss =  0.810\t acc =  0.699\n",
      "loss =  0.878\t acc =  0.714\n",
      "loss =  0.794\t acc =  0.727\n",
      "loss =  0.830\t acc =  0.716\n",
      "loss =  0.819\t acc =  0.709\n",
      "loss =  0.798\t acc =  0.739\n"
     ]
    }
   ],
   "source": [
    "for i in range(30):\n",
    "    \n",
    "    loss = train_one_epoch()\n",
    "    \n",
    "    acc = evaluate()\n",
    "    \n",
    "    print(f'loss = {loss: .3f}\\t acc = {acc: .3f}')"
   ]
  },
  {
   "cell_type": "code",
   "execution_count": null,
   "metadata": {},
   "outputs": [],
   "source": []
  }
 ],
 "metadata": {
  "kernelspec": {
   "display_name": "py37_UZA",
   "language": "python",
   "name": "py37_uza"
  },
  "language_info": {
   "codemirror_mode": {
    "name": "ipython",
    "version": 3
   },
   "file_extension": ".py",
   "mimetype": "text/x-python",
   "name": "python",
   "nbconvert_exporter": "python",
   "pygments_lexer": "ipython3",
   "version": "3.7.9"
  },
  "widgets": {
   "application/vnd.jupyter.widget-state+json": {
    "state": {},
    "version_major": 2,
    "version_minor": 0
   }
  }
 },
 "nbformat": 4,
 "nbformat_minor": 4
}
