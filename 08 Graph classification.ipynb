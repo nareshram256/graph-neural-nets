{
 "cells": [
  {
   "cell_type": "code",
   "execution_count": 1,
   "metadata": {},
   "outputs": [],
   "source": [
    "import numpy as np\n",
    "\n",
    "import torch\n",
    "from torch import nn\n",
    "import torch.nn.functional as F\n",
    "\n",
    "from torch_geometric.datasets import TUDataset\n",
    "import torch_geometric.transforms as T\n",
    "from torch_geometric.data import DataLoader, NeighborSampler\n",
    "\n",
    "from sklearn.metrics import accuracy_score"
   ]
  },
  {
   "cell_type": "code",
   "execution_count": 2,
   "metadata": {},
   "outputs": [
    {
     "name": "stdout",
     "output_type": "stream",
     "text": [
      "Downloading https://www.chrsmrrs.com/graphkerneldatasets/PROTEINS.zip\n",
      "Extracting data/dense_prot/PROTEINS/PROTEINS.zip\n",
      "Processing...\n",
      "Done!\n",
      "1113\n"
     ]
    }
   ],
   "source": [
    "dataset = TUDataset('./data/dense_prot', name='PROTEINS')\n",
    "\n",
    "print(len(dataset))"
   ]
  },
  {
   "cell_type": "code",
   "execution_count": 3,
   "metadata": {},
   "outputs": [],
   "source": [
    "dataset = dataset.shuffle()\n",
    "\n",
    "val_dataset = dataset[:300]\n",
    "train_dataset = dataset[300:]"
   ]
  },
  {
   "cell_type": "code",
   "execution_count": 5,
   "metadata": {},
   "outputs": [
    {
     "data": {
      "text/plain": [
       "1113"
      ]
     },
     "execution_count": 5,
     "metadata": {},
     "output_type": "execute_result"
    }
   ],
   "source": [
    "len(dataset)"
   ]
  },
  {
   "cell_type": "code",
   "execution_count": 6,
   "metadata": {},
   "outputs": [],
   "source": [
    "train_loader = DataLoader(dataset=train_dataset, batch_size=100)\n",
    "\n",
    "val_loader = DataLoader(dataset=val_dataset, batch_size=100)"
   ]
  },
  {
   "cell_type": "code",
   "execution_count": 7,
   "metadata": {},
   "outputs": [],
   "source": [
    "batch = next(iter(train_loader))"
   ]
  },
  {
   "cell_type": "code",
   "execution_count": 10,
   "metadata": {},
   "outputs": [
    {
     "data": {
      "text/plain": [
       "tensor([ 0,  0,  0,  ..., 26, 26, 26])"
      ]
     },
     "execution_count": 10,
     "metadata": {},
     "output_type": "execute_result"
    }
   ],
   "source": [
    "batch.batch[:1500]"
   ]
  },
  {
   "cell_type": "code",
   "execution_count": 11,
   "metadata": {},
   "outputs": [
    {
     "data": {
      "text/plain": [
       "tensor([[   0,    0,    1,  ..., 3975, 3975, 3975],\n",
       "        [   1,    7,    0,  ..., 3968, 3969, 3974]])"
      ]
     },
     "execution_count": 11,
     "metadata": {},
     "output_type": "execute_result"
    }
   ],
   "source": [
    "batch.edge_index"
   ]
  },
  {
   "cell_type": "code",
   "execution_count": 14,
   "metadata": {},
   "outputs": [
    {
     "data": {
      "text/plain": [
       "tensor([0, 1, 0, 0, 0, 0, 1, 1, 1, 0, 0, 0, 0, 1, 0, 0, 1, 0, 0, 0, 0, 0, 0, 0,\n",
       "        0, 1, 0, 1, 1, 0, 0, 0, 0, 1, 0, 0, 0, 0, 1, 1, 0, 0, 1, 1, 0, 0, 0, 1,\n",
       "        0, 1, 1, 0, 0, 0, 1, 0, 0, 0, 0, 1, 1, 0, 0, 0, 0, 1, 1, 0, 0, 1, 1, 0,\n",
       "        1, 0, 1, 1, 1, 1, 1, 0, 0, 0, 1, 1, 0, 1, 0, 0, 0, 0, 0, 0, 0, 0, 1, 0,\n",
       "        1, 0, 0, 1])"
      ]
     },
     "execution_count": 14,
     "metadata": {},
     "output_type": "execute_result"
    }
   ],
   "source": [
    "batch.y"
   ]
  },
  {
   "cell_type": "code",
   "execution_count": 12,
   "metadata": {},
   "outputs": [],
   "source": [
    "from torch_geometric.nn import GCNConv\n",
    "from torch_geometric.nn import global_max_pool"
   ]
  },
  {
   "cell_type": "code",
   "execution_count": 15,
   "metadata": {},
   "outputs": [],
   "source": [
    "class ProteinClassifier(nn.Module):\n",
    "    \n",
    "    def __init__(self):\n",
    "        \n",
    "        super().__init__()\n",
    "        \n",
    "        self.conv1 = GCNConv(dataset.num_features, 16)\n",
    "        \n",
    "        self.conv2 = GCNConv(16, 64)\n",
    "        \n",
    "        self.fc = torch.nn.Linear(64, dataset.num_classes)\n",
    "        \n",
    "    def forward(self, data):\n",
    "        \n",
    "        x, edge_index, batch = data.x, data.edge_index, data.batch\n",
    "        \n",
    "        h = self.conv1(x, edge_index) # [num_nodes_in_batch, dim]\n",
    "        \n",
    "        h = F.relu(h)\n",
    "        \n",
    "        h = self.conv2(h, edge_index) # [num_nodes_in_batch, dim]\n",
    "        \n",
    "        h = F.relu(h)\n",
    "                \n",
    "        h = global_max_pool(h, batch) # [num_graphs, num_classes]\n",
    "        \n",
    "        return self.fc(h)"
   ]
  },
  {
   "cell_type": "code",
   "execution_count": 16,
   "metadata": {},
   "outputs": [],
   "source": [
    "device = 'cuda' if torch.cuda.is_available() else 'cpu'"
   ]
  },
  {
   "cell_type": "code",
   "execution_count": 17,
   "metadata": {},
   "outputs": [],
   "source": [
    "model = ProteinClassifier().to(device)"
   ]
  },
  {
   "cell_type": "code",
   "execution_count": 18,
   "metadata": {},
   "outputs": [],
   "source": [
    "opt = torch.optim.Adam(model.parameters())"
   ]
  },
  {
   "cell_type": "code",
   "execution_count": 19,
   "metadata": {},
   "outputs": [],
   "source": [
    "def train_one_epoch(dataloader=train_loader):\n",
    "    \n",
    "    \n",
    "    losses = []\n",
    "    \n",
    "    for data in dataloader:\n",
    "        \n",
    "        data = data.to(device)\n",
    "\n",
    "        out = model(data) # [num_graphs, num_classes]\n",
    "\n",
    "        loss = F.cross_entropy(out, data.y)\n",
    "\n",
    "        loss.backward()\n",
    "\n",
    "        opt.step()\n",
    "\n",
    "        opt.zero_grad()\n",
    "\n",
    "        losses.append(loss.item())\n",
    "            \n",
    "    return np.array(losses).mean()"
   ]
  },
  {
   "cell_type": "code",
   "execution_count": 20,
   "metadata": {},
   "outputs": [],
   "source": [
    "@torch.no_grad()\n",
    "def evaluate(dataloader=val_loader):\n",
    "    \n",
    "    true_y = []\n",
    "    \n",
    "    pred_y = []\n",
    "    \n",
    "    for data in dataloader:\n",
    "        \n",
    "        data = data.to(device)\n",
    "\n",
    "        out = model(data).cpu()\n",
    "\n",
    "        pred = torch.argmax(out, dim=1).numpy().tolist()\n",
    "        \n",
    "        true = data.y.cpu().numpy().tolist()\n",
    "        \n",
    "        pred_y.extend(pred)\n",
    "        \n",
    "        true_y.extend(true)\n",
    "            \n",
    "    return accuracy_score(true_y, pred_y)"
   ]
  },
  {
   "cell_type": "code",
   "execution_count": 21,
   "metadata": {},
   "outputs": [
    {
     "name": "stdout",
     "output_type": "stream",
     "text": [
      "train_loss =  0.7\t val_acc= 0.66\n",
      "train_loss =  0.67\t val_acc= 0.59\n",
      "train_loss =  0.66\t val_acc= 0.59\n",
      "train_loss =  0.65\t val_acc= 0.59\n",
      "train_loss =  0.65\t val_acc= 0.59\n",
      "train_loss =  0.65\t val_acc= 0.59\n",
      "train_loss =  0.64\t val_acc= 0.59\n",
      "train_loss =  0.64\t val_acc= 0.59\n",
      "train_loss =  0.63\t val_acc= 0.59\n",
      "train_loss =  0.63\t val_acc= 0.6\n",
      "train_loss =  0.63\t val_acc= 0.61\n",
      "train_loss =  0.62\t val_acc= 0.62\n",
      "train_loss =  0.62\t val_acc= 0.63\n",
      "train_loss =  0.62\t val_acc= 0.65\n",
      "train_loss =  0.61\t val_acc= 0.66\n",
      "train_loss =  0.61\t val_acc= 0.64\n",
      "train_loss =  0.6\t val_acc= 0.65\n",
      "train_loss =  0.6\t val_acc= 0.65\n",
      "train_loss =  0.6\t val_acc= 0.66\n",
      "train_loss =  0.59\t val_acc= 0.67\n",
      "train_loss =  0.58\t val_acc= 0.68\n",
      "train_loss =  0.58\t val_acc= 0.7\n",
      "train_loss =  0.57\t val_acc= 0.71\n",
      "train_loss =  0.57\t val_acc= 0.71\n",
      "train_loss =  0.56\t val_acc= 0.71\n",
      "train_loss =  0.56\t val_acc= 0.72\n",
      "train_loss =  0.55\t val_acc= 0.72\n",
      "train_loss =  0.55\t val_acc= 0.73\n",
      "train_loss =  0.55\t val_acc= 0.73\n",
      "train_loss =  0.54\t val_acc= 0.73\n",
      "train_loss =  0.54\t val_acc= 0.73\n",
      "train_loss =  0.54\t val_acc= 0.73\n",
      "train_loss =  0.53\t val_acc= 0.73\n",
      "train_loss =  0.53\t val_acc= 0.73\n",
      "train_loss =  0.53\t val_acc= 0.73\n",
      "train_loss =  0.53\t val_acc= 0.73\n",
      "train_loss =  0.53\t val_acc= 0.73\n",
      "train_loss =  0.52\t val_acc= 0.73\n",
      "train_loss =  0.52\t val_acc= 0.73\n",
      "train_loss =  0.52\t val_acc= 0.73\n",
      "train_loss =  0.52\t val_acc= 0.74\n",
      "train_loss =  0.52\t val_acc= 0.74\n",
      "train_loss =  0.52\t val_acc= 0.74\n",
      "train_loss =  0.52\t val_acc= 0.74\n",
      "train_loss =  0.52\t val_acc= 0.74\n",
      "train_loss =  0.52\t val_acc= 0.74\n",
      "train_loss =  0.52\t val_acc= 0.74\n",
      "train_loss =  0.52\t val_acc= 0.74\n",
      "train_loss =  0.52\t val_acc= 0.74\n",
      "train_loss =  0.52\t val_acc= 0.74\n",
      "train_loss =  0.51\t val_acc= 0.74\n",
      "train_loss =  0.51\t val_acc= 0.74\n",
      "train_loss =  0.51\t val_acc= 0.74\n",
      "train_loss =  0.51\t val_acc= 0.74\n",
      "train_loss =  0.51\t val_acc= 0.74\n",
      "train_loss =  0.51\t val_acc= 0.74\n",
      "train_loss =  0.51\t val_acc= 0.74\n",
      "train_loss =  0.51\t val_acc= 0.74\n",
      "train_loss =  0.51\t val_acc= 0.74\n",
      "train_loss =  0.51\t val_acc= 0.74\n",
      "train_loss =  0.51\t val_acc= 0.74\n",
      "train_loss =  0.51\t val_acc= 0.74\n",
      "train_loss =  0.51\t val_acc= 0.75\n",
      "train_loss =  0.51\t val_acc= 0.75\n",
      "train_loss =  0.51\t val_acc= 0.75\n",
      "train_loss =  0.51\t val_acc= 0.75\n",
      "train_loss =  0.51\t val_acc= 0.75\n",
      "train_loss =  0.51\t val_acc= 0.75\n",
      "train_loss =  0.51\t val_acc= 0.75\n",
      "train_loss =  0.51\t val_acc= 0.75\n",
      "train_loss =  0.51\t val_acc= 0.74\n",
      "train_loss =  0.51\t val_acc= 0.74\n",
      "train_loss =  0.51\t val_acc= 0.74\n",
      "train_loss =  0.51\t val_acc= 0.74\n",
      "train_loss =  0.51\t val_acc= 0.74\n",
      "train_loss =  0.51\t val_acc= 0.74\n",
      "train_loss =  0.51\t val_acc= 0.74\n",
      "train_loss =  0.51\t val_acc= 0.74\n",
      "train_loss =  0.51\t val_acc= 0.74\n",
      "train_loss =  0.51\t val_acc= 0.74\n",
      "train_loss =  0.51\t val_acc= 0.74\n",
      "train_loss =  0.51\t val_acc= 0.74\n",
      "train_loss =  0.51\t val_acc= 0.74\n",
      "train_loss =  0.51\t val_acc= 0.74\n",
      "train_loss =  0.51\t val_acc= 0.74\n",
      "train_loss =  0.51\t val_acc= 0.74\n",
      "train_loss =  0.51\t val_acc= 0.74\n",
      "train_loss =  0.51\t val_acc= 0.74\n",
      "train_loss =  0.51\t val_acc= 0.74\n",
      "train_loss =  0.51\t val_acc= 0.74\n",
      "train_loss =  0.51\t val_acc= 0.74\n",
      "train_loss =  0.51\t val_acc= 0.74\n",
      "train_loss =  0.51\t val_acc= 0.74\n",
      "train_loss =  0.51\t val_acc= 0.74\n",
      "train_loss =  0.51\t val_acc= 0.74\n",
      "train_loss =  0.51\t val_acc= 0.74\n",
      "train_loss =  0.51\t val_acc= 0.74\n",
      "train_loss =  0.51\t val_acc= 0.74\n",
      "train_loss =  0.51\t val_acc= 0.74\n",
      "train_loss =  0.51\t val_acc= 0.74\n"
     ]
    }
   ],
   "source": [
    "for i in range(100):\n",
    "    \n",
    "    loss = train_one_epoch(train_loader)\n",
    "    \n",
    "    val_acc = evaluate(val_loader)\n",
    "    \n",
    "    print(f'train_loss = {loss: .2}\\t val_acc={val_acc: .2}')"
   ]
  },
  {
   "cell_type": "code",
   "execution_count": null,
   "metadata": {},
   "outputs": [],
   "source": []
  }
 ],
 "metadata": {
  "kernelspec": {
   "display_name": "py37_UZA",
   "language": "python",
   "name": "py37_uza"
  },
  "language_info": {
   "codemirror_mode": {
    "name": "ipython",
    "version": 3
   },
   "file_extension": ".py",
   "mimetype": "text/x-python",
   "name": "python",
   "nbconvert_exporter": "python",
   "pygments_lexer": "ipython3",
   "version": "3.7.9"
  },
  "widgets": {
   "application/vnd.jupyter.widget-state+json": {
    "state": {},
    "version_major": 2,
    "version_minor": 0
   }
  }
 },
 "nbformat": 4,
 "nbformat_minor": 4
}
