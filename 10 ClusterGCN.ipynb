{
 "cells": [
  {
   "cell_type": "code",
   "execution_count": 1,
   "metadata": {},
   "outputs": [],
   "source": [
    "import numpy as np\n",
    "\n",
    "import torch\n",
    "from torch import nn\n",
    "import torch.nn.functional as F\n",
    "\n",
    "from torch_geometric.datasets import WikiCS\n",
    "from torch_geometric.data import ClusterData, ClusterLoader"
   ]
  },
  {
   "cell_type": "code",
   "execution_count": 2,
   "metadata": {},
   "outputs": [
    {
     "name": "stdout",
     "output_type": "stream",
     "text": [
      "7\n"
     ]
    }
   ],
   "source": [
    "dataset = WikiCS(root='./data')[0]\n",
    "\n",
    "print(len(dataset))"
   ]
  },
  {
   "cell_type": "code",
   "execution_count": 3,
   "metadata": {},
   "outputs": [],
   "source": [
    "NUM_CLASSES = len(dataset.y.unique())"
   ]
  },
  {
   "cell_type": "code",
   "execution_count": 4,
   "metadata": {},
   "outputs": [
    {
     "name": "stdout",
     "output_type": "stream",
     "text": [
      "Computing METIS partitioning...\n",
      "Done!\n"
     ]
    }
   ],
   "source": [
    "# Clusters/partitions a graph data object into multiple subgraphs\n",
    "\n",
    "cluster_data = ClusterData(data=dataset, num_parts=20)\n",
    "\n",
    "data_loader = ClusterLoader(cluster_data, batch_size=5, num_workers=5, shuffle=True)"
   ]
  },
  {
   "cell_type": "code",
   "execution_count": 6,
   "metadata": {},
   "outputs": [
    {
     "data": {
      "text/plain": [
       "Data(edge_index=[2, 831], stopping_mask=[568, 20], test_mask=[568], train_mask=[568, 20], val_mask=[568, 20], x=[568, 300], y=[568])"
      ]
     },
     "execution_count": 6,
     "metadata": {},
     "output_type": "execute_result"
    }
   ],
   "source": [
    "cluster_data[1]"
   ]
  },
  {
   "cell_type": "code",
   "execution_count": 7,
   "metadata": {},
   "outputs": [],
   "source": [
    "from torch_geometric.nn import SAGEConv"
   ]
  },
  {
   "cell_type": "code",
   "execution_count": 8,
   "metadata": {},
   "outputs": [],
   "source": [
    "class WikiNode(nn.Module):\n",
    "    \n",
    "    def __init__(self):\n",
    "        \n",
    "        super().__init__()\n",
    "        \n",
    "        self.convs = nn.ModuleList()\n",
    "        \n",
    "        self.convs.append(SAGEConv(dataset.num_features, 128))\n",
    "        \n",
    "        self.convs.append(SAGEConv(128, 128))\n",
    "        \n",
    "        self.out_conv = SAGEConv(128, NUM_CLASSES)\n",
    "        \n",
    "    def forward(self, data):\n",
    "        \n",
    "        x, edge_index = data.x, data.edge_index\n",
    "        \n",
    "        for conv in self.convs:\n",
    "                        \n",
    "            x = conv(x, edge_index)\n",
    "            \n",
    "            x = F.relu(x)\n",
    "            \n",
    "        return self.out_conv(x, edge_index)"
   ]
  },
  {
   "cell_type": "code",
   "execution_count": 9,
   "metadata": {},
   "outputs": [],
   "source": [
    "DEVICE = 'cuda' if torch.cuda.is_available() else 'cpu'"
   ]
  },
  {
   "cell_type": "code",
   "execution_count": 10,
   "metadata": {},
   "outputs": [],
   "source": [
    "node_clf = WikiNode().to(DEVICE)\n",
    "\n",
    "opt = torch.optim.Adam(node_clf.parameters(), weight_decay=0.001)"
   ]
  },
  {
   "cell_type": "code",
   "execution_count": 11,
   "metadata": {},
   "outputs": [],
   "source": [
    "@torch.no_grad()\n",
    "def masked_acc(logits, y, mask):\n",
    "    \n",
    "    a_max = torch.argmax(logits, dim=-1)\n",
    "    \n",
    "    eq = (a_max == y).float() * mask.float()\n",
    "            \n",
    "    return eq.sum() / mask.float().sum()"
   ]
  },
  {
   "cell_type": "code",
   "execution_count": 12,
   "metadata": {},
   "outputs": [],
   "source": [
    "def masked_cross_entropy(logits, y, mask):\n",
    "    \n",
    "    masked_y = y.masked_fill(mask == False, value=-1)\n",
    "    \n",
    "    loss = F.cross_entropy(logits, masked_y, ignore_index=-1)\n",
    "    \n",
    "    return loss"
   ]
  },
  {
   "cell_type": "code",
   "execution_count": 13,
   "metadata": {},
   "outputs": [],
   "source": [
    "def train_one_epoch():\n",
    "        \n",
    "    losses = []\n",
    "\n",
    "    for data in data_loader:\n",
    "        \n",
    "        data = data.to(DEVICE)\n",
    "        \n",
    "        logits = node_clf(data)\n",
    "        \n",
    "        mask = data.train_mask[:, 0]\n",
    "        \n",
    "        loss = masked_cross_entropy(logits, data.y, mask)\n",
    "                \n",
    "        # backprop + update\n",
    "        loss.backward()\n",
    "        opt.step()\n",
    "        opt.zero_grad()\n",
    "\n",
    "        losses.append(loss.item())\n",
    "        \n",
    "    return np.array(losses).mean()"
   ]
  },
  {
   "cell_type": "code",
   "execution_count": 14,
   "metadata": {},
   "outputs": [],
   "source": [
    "@torch.no_grad()\n",
    "def evaluate():\n",
    "        \n",
    "    accuracies = []\n",
    "\n",
    "    for data in data_loader:\n",
    "        \n",
    "        data = data.to(DEVICE)\n",
    "        \n",
    "        logits = node_clf(data)\n",
    "\n",
    "        mask = data.test_mask\n",
    "                \n",
    "        # compute accuracy\n",
    "        acc = masked_acc(logits, data.y, mask)\n",
    "\n",
    "        accuracies.append(acc.item())\n",
    "\n",
    "    return np.array(accuracies).mean()"
   ]
  },
  {
   "cell_type": "code",
   "execution_count": 15,
   "metadata": {},
   "outputs": [
    {
     "name": "stdout",
     "output_type": "stream",
     "text": [
      "loss =  2.289\t acc =  0.227\n",
      "loss =  2.197\t acc =  0.229\n",
      "loss =  2.115\t acc =  0.232\n",
      "loss =  2.039\t acc =  0.306\n",
      "loss =  1.967\t acc =  0.439\n",
      "loss =  1.905\t acc =  0.508\n",
      "loss =  1.820\t acc =  0.530\n",
      "loss =  1.714\t acc =  0.528\n",
      "loss =  1.629\t acc =  0.531\n",
      "loss =  1.533\t acc =  0.534\n",
      "loss =  1.432\t acc =  0.541\n",
      "loss =  1.346\t acc =  0.546\n",
      "loss =  1.269\t acc =  0.552\n",
      "loss =  1.224\t acc =  0.572\n",
      "loss =  1.166\t acc =  0.591\n",
      "loss =  1.124\t acc =  0.617\n",
      "loss =  1.073\t acc =  0.624\n",
      "loss =  1.037\t acc =  0.652\n",
      "loss =  0.989\t acc =  0.663\n",
      "loss =  0.951\t acc =  0.664\n",
      "loss =  0.940\t acc =  0.687\n",
      "loss =  0.886\t acc =  0.695\n",
      "loss =  0.882\t acc =  0.691\n",
      "loss =  0.844\t acc =  0.702\n",
      "loss =  0.818\t acc =  0.710\n",
      "loss =  0.795\t acc =  0.716\n",
      "loss =  0.754\t acc =  0.710\n",
      "loss =  0.743\t acc =  0.735\n",
      "loss =  0.742\t acc =  0.733\n",
      "loss =  0.706\t acc =  0.736\n",
      "loss =  0.660\t acc =  0.742\n",
      "loss =  0.649\t acc =  0.734\n",
      "loss =  0.629\t acc =  0.746\n",
      "loss =  0.632\t acc =  0.747\n",
      "loss =  0.586\t acc =  0.752\n",
      "loss =  0.570\t acc =  0.746\n",
      "loss =  0.561\t acc =  0.753\n",
      "loss =  0.543\t acc =  0.749\n",
      "loss =  0.525\t acc =  0.743\n",
      "loss =  0.506\t acc =  0.756\n",
      "loss =  0.510\t acc =  0.754\n",
      "loss =  0.492\t acc =  0.755\n",
      "loss =  0.467\t acc =  0.754\n",
      "loss =  0.440\t acc =  0.757\n",
      "loss =  0.464\t acc =  0.756\n",
      "loss =  0.436\t acc =  0.759\n",
      "loss =  0.432\t acc =  0.749\n",
      "loss =  0.413\t acc =  0.759\n",
      "loss =  0.400\t acc =  0.760\n",
      "loss =  0.379\t acc =  0.753\n"
     ]
    }
   ],
   "source": [
    "for i in range(50):\n",
    "    \n",
    "    loss = train_one_epoch()\n",
    "    \n",
    "    acc = evaluate()\n",
    "    \n",
    "    print(f'loss = {loss: .3f}\\t acc = {acc: .3f}')"
   ]
  },
  {
   "cell_type": "code",
   "execution_count": null,
   "metadata": {},
   "outputs": [],
   "source": []
  }
 ],
 "metadata": {
  "kernelspec": {
   "display_name": "py37_UZA",
   "language": "python",
   "name": "py37_uza"
  },
  "language_info": {
   "codemirror_mode": {
    "name": "ipython",
    "version": 3
   },
   "file_extension": ".py",
   "mimetype": "text/x-python",
   "name": "python",
   "nbconvert_exporter": "python",
   "pygments_lexer": "ipython3",
   "version": "3.7.9"
  },
  "widgets": {
   "application/vnd.jupyter.widget-state+json": {
    "state": {},
    "version_major": 2,
    "version_minor": 0
   }
  }
 },
 "nbformat": 4,
 "nbformat_minor": 4
}
