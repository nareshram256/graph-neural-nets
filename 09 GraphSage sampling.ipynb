{
 "cells": [
  {
   "cell_type": "code",
   "execution_count": 1,
   "metadata": {},
   "outputs": [],
   "source": [
    "import numpy as np\n",
    "\n",
    "import torch\n",
    "from torch import nn\n",
    "import torch.nn.functional as F\n",
    "\n",
    "from torch_geometric.datasets import WikiCS\n",
    "from torch_geometric.data import NeighborSampler"
   ]
  },
  {
   "cell_type": "code",
   "execution_count": 2,
   "metadata": {},
   "outputs": [
    {
     "name": "stdout",
     "output_type": "stream",
     "text": [
      "7\n"
     ]
    }
   ],
   "source": [
    "dataset = WikiCS(root='./data')[0]\n",
    "\n",
    "print(len(dataset))"
   ]
  },
  {
   "cell_type": "code",
   "execution_count": 3,
   "metadata": {},
   "outputs": [
    {
     "data": {
      "text/plain": [
       "Data(edge_index=[2, 297110], stopping_mask=[11701, 20], test_mask=[11701], train_mask=[11701, 20], val_mask=[11701, 20], x=[11701, 300], y=[11701])"
      ]
     },
     "execution_count": 3,
     "metadata": {},
     "output_type": "execute_result"
    }
   ],
   "source": [
    "dataset"
   ]
  },
  {
   "cell_type": "code",
   "execution_count": 4,
   "metadata": {},
   "outputs": [
    {
     "data": {
      "text/plain": [
       "tensor([[-0.0204,  0.0646,  0.0197,  ..., -0.0754, -0.1124,  0.1514],\n",
       "        [-0.0438, -0.0317, -0.0082,  ..., -0.0658,  0.0643, -0.0588],\n",
       "        [-0.1127,  0.0098,  0.1422,  ...,  0.1398, -0.0195,  0.0451],\n",
       "        ...,\n",
       "        [ 0.0368,  0.0305, -0.0285,  ..., -0.0600, -0.0721,  0.1510],\n",
       "        [-0.0329,  0.0195, -0.1278,  ..., -0.1751, -0.0754,  0.1974],\n",
       "        [ 0.0530,  0.0480, -0.0100,  ...,  0.0250, -0.0308,  0.0691]])"
      ]
     },
     "execution_count": 4,
     "metadata": {},
     "output_type": "execute_result"
    }
   ],
   "source": [
    "dataset.x"
   ]
  },
  {
   "cell_type": "code",
   "execution_count": 5,
   "metadata": {},
   "outputs": [],
   "source": [
    "NUM_CLASSES = len(dataset.y.unique())"
   ]
  },
  {
   "cell_type": "code",
   "execution_count": 6,
   "metadata": {},
   "outputs": [
    {
     "data": {
      "text/plain": [
       "10"
      ]
     },
     "execution_count": 6,
     "metadata": {},
     "output_type": "execute_result"
    }
   ],
   "source": [
    "NUM_CLASSES"
   ]
  },
  {
   "cell_type": "code",
   "execution_count": 7,
   "metadata": {},
   "outputs": [],
   "source": [
    "train_loader = NeighborSampler(edge_index=dataset.edge_index, sizes=[20, 10], batch_size=256, shuffle=True)\n",
    "\n",
    "test_loader = NeighborSampler(edge_index=dataset.edge_index, sizes=[-1, -1], batch_size=2048)"
   ]
  },
  {
   "cell_type": "code",
   "execution_count": 9,
   "metadata": {},
   "outputs": [
    {
     "data": {
      "text/plain": [
       "(256,\n",
       " tensor([ 2949,  4921,  3912,  ...,  2000, 11555,  2457]),\n",
       " [EdgeIndex(edge_index=tensor([[ 256,  257,   95,  ..., 2528, 2891, 5526],\n",
       "          [   0,    0,    1,  ..., 2040, 2040, 2040]]), e_id=tensor([261570,  75748,  17748,  ..., 138962,  43663,  65528]), size=(5527, 2041)),\n",
       "  EdgeIndex(edge_index=tensor([[ 256,  257,   95,  ..., 2040,  257, 1644],\n",
       "          [   0,    0,    1,  ...,  253,  255,  255]]), e_id=tensor([261570,  75748,  17748,  ..., 167341,  75744, 170487]), size=(2041, 256))])"
      ]
     },
     "execution_count": 9,
     "metadata": {},
     "output_type": "execute_result"
    }
   ],
   "source": [
    "sample_batch = next(iter(train_loader))\n",
    "\n",
    "sample_batch\n",
    "\n",
    "# see doc https://pytorch-geometric.readthedocs.io/en/latest/modules/data.html\n",
    "\n",
    "# batch_size, n_id, list of bipartite graphs \n",
    "\n",
    "# n_id: all nodes involved in the computation\n",
    "# edge_index: the bipartite edges between source and target nodes\n",
    "# e_id: the IDs of original edges in the full graph\n",
    "# size holds the shape of the bipartite graph\n",
    "\n",
    "# For each bipartite graph, target nodes are also included at the beginning of the list of source nodes"
   ]
  },
  {
   "cell_type": "code",
   "execution_count": 10,
   "metadata": {},
   "outputs": [],
   "source": [
    "from torch_geometric.nn import SAGEConv"
   ]
  },
  {
   "cell_type": "code",
   "execution_count": 11,
   "metadata": {},
   "outputs": [],
   "source": [
    "class WikiNode(nn.Module):\n",
    "    \n",
    "    def __init__(self):\n",
    "        \n",
    "        super().__init__()\n",
    "        \n",
    "        self.convs = nn.ModuleList()\n",
    "        \n",
    "        self.convs.append(SAGEConv(dataset.num_features, 128))\n",
    "        \n",
    "        self.convs.append(SAGEConv(128, 128))\n",
    "        \n",
    "        self.fc = torch.nn.Linear(128, NUM_CLASSES)\n",
    "        \n",
    "    def forward(self, x, adjs):\n",
    "        \n",
    "        for i, (edge_index, _, size) in enumerate(adjs):\n",
    "                        \n",
    "            x_target = x[:size[1]] # Target nodes are always placed first.\n",
    "            \n",
    "            # aggregate from neighbors\n",
    "            x = self.convs[i]((x, x_target), edge_index)\n",
    "                        \n",
    "            x = F.relu(x)\n",
    "            \n",
    "        return self.fc(x)\n",
    "    \n",
    "    def full_forward(self, x, edge_index):\n",
    "        \n",
    "        for conv in self.convs:\n",
    "            \n",
    "            x = conv(x, edge_index)\n",
    "            \n",
    "            features = x\n",
    "            \n",
    "            x = F.relu(x)\n",
    "            \n",
    "        return self.fc(x), features"
   ]
  },
  {
   "cell_type": "code",
   "execution_count": 12,
   "metadata": {},
   "outputs": [],
   "source": [
    "DEVICE = 'cuda' if torch.cuda.is_available() else 'cpu'"
   ]
  },
  {
   "cell_type": "code",
   "execution_count": 13,
   "metadata": {},
   "outputs": [],
   "source": [
    "node_clf = WikiNode().to(DEVICE)\n",
    "\n",
    "opt = torch.optim.Adam(node_clf.parameters(), weight_decay=0.001)"
   ]
  },
  {
   "cell_type": "code",
   "execution_count": 14,
   "metadata": {},
   "outputs": [],
   "source": [
    "train_mask = dataset.train_mask[:, 0]\n",
    "\n",
    "test_mask = dataset.test_mask"
   ]
  },
  {
   "cell_type": "code",
   "execution_count": 17,
   "metadata": {},
   "outputs": [],
   "source": [
    "@torch.no_grad()\n",
    "def masked_acc(logits, y, mask):\n",
    "    \n",
    "    a_max = torch.argmax(logits, dim=-1)\n",
    "    \n",
    "    eq = (a_max == y).float() * mask.float()\n",
    "            \n",
    "    return eq.sum() / mask.float().sum()"
   ]
  },
  {
   "cell_type": "code",
   "execution_count": 18,
   "metadata": {},
   "outputs": [],
   "source": [
    "def masked_cross_entropy(logits, y, mask):\n",
    "    \n",
    "    masked_y = y.masked_fill(mask == False, value=-1)\n",
    "    \n",
    "    loss = F.cross_entropy(logits, masked_y, ignore_index=-1)\n",
    "    \n",
    "    return loss"
   ]
  },
  {
   "cell_type": "code",
   "execution_count": 19,
   "metadata": {},
   "outputs": [],
   "source": [
    "def train_one_epoch():\n",
    "        \n",
    "    losses = []\n",
    "\n",
    "    for bs, n_id, adjs in train_loader:\n",
    "\n",
    "        # all x involved in the computation graph\n",
    "        x_i = dataset.x[n_id].to(DEVICE)\n",
    "        \n",
    "        # put all adjs to device\n",
    "        adjs = [adj.to(DEVICE) for adj in adjs]\n",
    "\n",
    "        # prediction\n",
    "        logits = node_clf(x_i, adjs) # [bs, num_classes]\n",
    "\n",
    "        # train mask\n",
    "        train_mask_i = train_mask[n_id][:bs].to(DEVICE)\n",
    "\n",
    "        # y_i\n",
    "        y_i = dataset.y[n_id][:bs].to(DEVICE)\n",
    "\n",
    "        # compute masked loss\n",
    "        loss = masked_cross_entropy(logits, y_i, train_mask_i)\n",
    "\n",
    "        # backprop + update\n",
    "        loss.backward()\n",
    "        opt.step()\n",
    "        opt.zero_grad()\n",
    "\n",
    "        losses.append(loss.item())\n",
    "\n",
    "    return np.array(losses).mean()"
   ]
  },
  {
   "cell_type": "code",
   "execution_count": 20,
   "metadata": {},
   "outputs": [],
   "source": [
    "@torch.no_grad()\n",
    "def evaluate():\n",
    "        \n",
    "    accuracies = []\n",
    "\n",
    "    for bs, n_id, adjs in test_loader:\n",
    "\n",
    "        # all x involved in the computation graph\n",
    "        x_i = dataset.x[n_id].to(DEVICE)\n",
    "        \n",
    "        # put all adjs to device\n",
    "        adjs = [adj.to(DEVICE) for adj in adjs]\n",
    "                \n",
    "        # prediction\n",
    "        logits = node_clf(x_i, adjs) # [bs, num_classes]\n",
    "\n",
    "        # train mask\n",
    "        test_mask_i = test_mask[n_id][:bs].to(DEVICE)\n",
    "\n",
    "        # y_i\n",
    "        y_i = dataset.y[n_id][:bs].to(DEVICE)\n",
    "                \n",
    "        # compute accuracy\n",
    "        acc = masked_acc(logits, y_i, test_mask_i)\n",
    "\n",
    "        accuracies.append(acc.item())\n",
    "\n",
    "    return np.array(accuracies).mean()"
   ]
  },
  {
   "cell_type": "code",
   "execution_count": 21,
   "metadata": {},
   "outputs": [
    {
     "name": "stdout",
     "output_type": "stream",
     "text": [
      "loss =  2.054\t acc =  0.509\n",
      "loss =  1.462\t acc =  0.602\n",
      "loss =  1.108\t acc =  0.642\n",
      "loss =  0.954\t acc =  0.647\n",
      "loss =  0.824\t acc =  0.712\n",
      "loss =  0.720\t acc =  0.724\n",
      "loss =  0.648\t acc =  0.713\n",
      "loss =  0.614\t acc =  0.739\n",
      "loss =  0.577\t acc =  0.745\n",
      "loss =  0.499\t acc =  0.750\n",
      "loss =  0.472\t acc =  0.750\n",
      "loss =  0.433\t acc =  0.746\n",
      "loss =  0.378\t acc =  0.762\n",
      "loss =  0.334\t acc =  0.758\n",
      "loss =  0.334\t acc =  0.761\n"
     ]
    }
   ],
   "source": [
    "for i in range(15):\n",
    "    \n",
    "    loss = train_one_epoch()\n",
    "    \n",
    "    acc = evaluate()\n",
    "    \n",
    "    print(f'loss = {loss: .3f}\\t acc = {acc: .3f}')"
   ]
  },
  {
   "cell_type": "markdown",
   "metadata": {},
   "source": [
    "### Visualize features"
   ]
  },
  {
   "cell_type": "code",
   "execution_count": 22,
   "metadata": {},
   "outputs": [],
   "source": [
    "from sklearn.manifold import TSNE\n",
    "from sklearn.decomposition import PCA\n",
    "import matplotlib.pyplot as plt"
   ]
  },
  {
   "cell_type": "code",
   "execution_count": 23,
   "metadata": {},
   "outputs": [],
   "source": [
    "np.random.seed(10)"
   ]
  },
  {
   "cell_type": "code",
   "execution_count": 24,
   "metadata": {},
   "outputs": [],
   "source": [
    "perm = np.random.permutation(len(dataset.x))[:1000]"
   ]
  },
  {
   "cell_type": "code",
   "execution_count": 25,
   "metadata": {},
   "outputs": [],
   "source": [
    "dataset.to(DEVICE)\n",
    "\n",
    "with torch.no_grad():\n",
    "    _, out = node_clf.full_forward(dataset.x, dataset.edge_index)\n",
    "    \n",
    "    out = out.cpu().numpy()"
   ]
  },
  {
   "cell_type": "code",
   "execution_count": 26,
   "metadata": {},
   "outputs": [],
   "source": [
    "out = out[perm]\n",
    "c = dataset.y.cpu().numpy()[perm]"
   ]
  },
  {
   "cell_type": "code",
   "execution_count": 27,
   "metadata": {},
   "outputs": [],
   "source": [
    "projected_gcn = TSNE(n_components=2).fit_transform(out)"
   ]
  },
  {
   "cell_type": "code",
   "execution_count": 28,
   "metadata": {},
   "outputs": [
    {
     "data": {
      "text/plain": [
       "<matplotlib.collections.PathCollection at 0x7f619573b450>"
      ]
     },
     "execution_count": 28,
     "metadata": {},
     "output_type": "execute_result"
    },
    {
     "data": {
      "image/png": "[encoded data removed]",
      "text/plain": [
       "<Figure size 504x504 with 1 Axes>"
      ]
     },
     "metadata": {
      "needs_background": "light"
     },
     "output_type": "display_data"
    }
   ],
   "source": [
    "plt.figure(figsize=(7, 7))\n",
    "plt.scatter(x=projected_gcn[:, 0], y=projected_gcn[:, 1], c=c, cmap='Paired')"
   ]
  },
  {
   "cell_type": "code",
   "execution_count": null,
   "metadata": {},
   "outputs": [],
   "source": []
  }
 ],
 "metadata": {
  "kernelspec": {
   "display_name": "py37_UZA",
   "language": "python",
   "name": "py37_uza"
  },
  "language_info": {
   "codemirror_mode": {
    "name": "ipython",
    "version": 3
   },
   "file_extension": ".py",
   "mimetype": "text/x-python",
   "name": "python",
   "nbconvert_exporter": "python",
   "pygments_lexer": "ipython3",
   "version": "3.7.9"
  },
  "widgets": {
   "application/vnd.jupyter.widget-state+json": {
    "state": {},
    "version_major": 2,
    "version_minor": 0
   }
  }
 },
 "nbformat": 4,
 "nbformat_minor": 4
}
